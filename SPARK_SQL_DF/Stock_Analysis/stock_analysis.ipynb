{
 "cells": [
  {
   "cell_type": "code",
   "execution_count": 1,
   "id": "073903a7-7eef-4b99-8342-3290349bf427",
   "metadata": {},
   "outputs": [],
   "source": [
    "import pyspark\n",
    "from pyspark.sql import SparkSession"
   ]
  },
  {
   "cell_type": "code",
   "execution_count": 2,
   "id": "a3f27dcd-46e7-4eaa-bdbc-116701aa2e9c",
   "metadata": {},
   "outputs": [],
   "source": [
    "spark = SparkSession.builder.appName(\"Stock Analysis with Spark\").getOrCreate()"
   ]
  },
  {
   "cell_type": "code",
   "execution_count": 3,
   "id": "1a519d43-4f51-4efb-a890-e8132841035a",
   "metadata": {},
   "outputs": [],
   "source": [
    "#Read the csv data of the tickers\n",
    "stocks = spark.read.load(\"StockData\",\n",
    "                         format=\"csv\",\n",
    "                         header=True, \n",
    "                         inferSchema=True)"
   ]
  },
  {
   "cell_type": "code",
   "execution_count": 4,
   "id": "d50671cc-0530-456f-86e6-22aa83da5b53",
   "metadata": {},
   "outputs": [
    {
     "name": "stdout",
     "output_type": "stream",
     "text": [
      "+------+----------+----------+-------+--------+--------+--------+\n",
      "|Ticker|      Date|Close/Last| Volume|    Open|    High|     Low|\n",
      "+------+----------+----------+-------+--------+--------+--------+\n",
      "| BRK-B|05/31/2023|  $321.08 |6175417|$321.12 |$322.41 |$319.39 |\n",
      "| BRK-B|05/30/2023|  $322.19 |3232461|$321.86 |$322.47 |$319.00 |\n",
      "| BRK-B|05/26/2023|  $320.60 |3229873|$320.44 |$322.63 |$319.67 |\n",
      "| BRK-B|05/25/2023|  $319.02 |4251935|$320.56 |$320.56 |$317.71 |\n",
      "| BRK-B|05/24/2023|  $320.20 |3075393|$322.71 |$323.00 |$319.56 |\n",
      "| BRK-B|05/23/2023|  $323.11 |4031342|$328.19 |$329.27 |$322.97 |\n",
      "| BRK-B|05/22/2023|  $329.13 |2763422|$330.75 |$331.49 |$328.35 |\n",
      "| BRK-B|05/19/2023|  $330.39 |4323538|$331.00 |$333.94 |$329.12 |\n",
      "| BRK-B|05/18/2023|  $329.76 |2808329|$326.87 |$329.98 |$325.85 |\n",
      "| BRK-B|05/17/2023|  $327.39 |3047626|$325.02 |$328.26 |$324.82 |\n",
      "| BRK-B|05/16/2023|  $323.75 |2139996|$322.46 |$324.69 |$322.36 |\n",
      "| BRK-B|05/15/2023|  $323.53 |2191609|$322.89 |$323.83 |$320.13 |\n",
      "| BRK-B|05/12/2023|  $322.49 |1938264|$323.82 |$324.24 |$320.54 |\n",
      "| BRK-B|05/11/2023|  $322.64 |2549339|$321.00 |$322.96 |$319.81 |\n",
      "| BRK-B|05/10/2023|  $322.99 |2641134|$326.08 |$326.16 |$320.15 |\n",
      "| BRK-B|05/09/2023|  $324.87 |2285924|$324.87 |$326.88 |$323.48 |\n",
      "| BRK-B|05/08/2023|  $326.14 |3303393|$328.26 |$330.69 |$325.79 |\n",
      "| BRK-B|05/05/2023|  $323.88 |3876299|$323.36 |$325.16 |$322.62 |\n",
      "| BRK-B|05/04/2023|  $320.00 |3194768|$323.44 |$325.99 |$317.41 |\n",
      "| BRK-B|05/03/2023|  $323.22 |2660456|$327.13 |$328.07 |$323.06 |\n",
      "| BRK-B|05/02/2023|  $325.86 |3369713|$330.15 |$330.25 |$322.76 |\n",
      "| BRK-B|05/01/2023|  $330.17 |2465391|$329.16 |$331.84 |$328.57 |\n",
      "| BRK-B|04/28/2023|  $328.55 |2912387|$325.44 |$328.81 |$325.19 |\n",
      "| BRK-B|04/27/2023|  $326.23 |2951130|$322.86 |$326.91 |$322.11 |\n",
      "| BRK-B|04/26/2023|  $320.53 |2721238|$323.31 |$323.74 |$319.00 |\n",
      "| BRK-B|04/25/2023|  $324.34 |2554381|$325.99 |$327.10 |$324.11 |\n",
      "| BRK-B|04/24/2023|  $326.05 |2262391|$324.43 |$326.40 |$324.30 |\n",
      "| BRK-B|04/21/2023|  $324.33 |2405869|$322.36 |$324.85 |$321.61 |\n",
      "| BRK-B|04/20/2023|  $323.82 |2429179|$322.20 |$324.37 |$321.32 |\n",
      "| BRK-B|04/19/2023|  $323.09 |2410917|$323.85 |$324.55 |$322.76 |\n",
      "+------+----------+----------+-------+--------+--------+--------+\n",
      "only showing top 30 rows\n",
      "\n"
     ]
    }
   ],
   "source": [
    "stocks.show(30)"
   ]
  },
  {
   "cell_type": "code",
   "execution_count": 5,
   "id": "dac684e9-00aa-4dfb-afb0-b96131568d0d",
   "metadata": {},
   "outputs": [
    {
     "name": "stdout",
     "output_type": "stream",
     "text": [
      "root\n",
      " |-- Ticker: string (nullable = true)\n",
      " |-- Date: string (nullable = true)\n",
      " |-- Close/Last: string (nullable = true)\n",
      " |-- Volume: integer (nullable = true)\n",
      " |-- Open: string (nullable = true)\n",
      " |-- High: string (nullable = true)\n",
      " |-- Low: string (nullable = true)\n",
      "\n"
     ]
    }
   ],
   "source": [
    "#Show the data schema\n",
    "stocks.printSchema()"
   ]
  },
  {
   "cell_type": "code",
   "execution_count": 6,
   "id": "cacab45f-9261-455c-be95-d2ceb62b4e86",
   "metadata": {},
   "outputs": [
    {
     "name": "stdout",
     "output_type": "stream",
     "text": [
      "+------+----------+--------+\n",
      "|Ticker|      Date|    Open|\n",
      "+------+----------+--------+\n",
      "| BRK-B|05/31/2023|$321.12 |\n",
      "| BRK-B|05/30/2023|$321.86 |\n",
      "| BRK-B|05/26/2023|$320.44 |\n",
      "+------+----------+--------+\n",
      "only showing top 3 rows\n",
      "\n"
     ]
    }
   ],
   "source": [
    "stocks.select([\"Ticker\", \"Date\", \"Open\"]).show(3)"
   ]
  },
  {
   "cell_type": "code",
   "execution_count": 7,
   "id": "335477c3-ec2d-4ad2-8071-49ac26e96d86",
   "metadata": {},
   "outputs": [
    {
     "name": "stdout",
     "output_type": "stream",
     "text": [
      "+------+----------+----------+--------+--------+--------+--------+\n",
      "|Ticker|      Date|Close/Last|  Volume|    Open|    High|     Low|\n",
      "+------+----------+----------+--------+--------+--------+--------+\n",
      "|     V|05/31/2023|  $221.03 |20460620|$219.96 |$221.53 |$216.14 |\n",
      "|     V|05/30/2023|  $221.64 | 6916013|$225.01 |$225.47 |$219.75 |\n",
      "|     V|05/26/2023|  $225.01 | 5067460|$223.82 |$226.21 |$223.34 |\n",
      "+------+----------+----------+--------+--------+--------+--------+\n",
      "only showing top 3 rows\n",
      "\n"
     ]
    }
   ],
   "source": [
    "#Filter the df by showing data related to a specific ticker symbol\n",
    "stocks.filter(stocks[\"Ticker\"] == \"V\").show(3)"
   ]
  },
  {
   "cell_type": "code",
   "execution_count": 8,
   "id": "e7a71de1-5524-40fc-bd76-362e722b2870",
   "metadata": {},
   "outputs": [
    {
     "name": "stdout",
     "output_type": "stream",
     "text": [
      "+------+----------+----------+--------+--------+--------+--------+\n",
      "|Ticker|      Date|Close/Last|  Volume|    Open|    High|     Low|\n",
      "+------+----------+----------+--------+--------+--------+--------+\n",
      "|  MSFT|05/31/2023|  $328.39 |45950550|$332.29 |$335.94 |$327.33 |\n",
      "|     V|05/31/2023|  $221.03 |20460620|$219.96 |$221.53 |$216.14 |\n",
      "+------+----------+----------+--------+--------+--------+--------+\n",
      "\n"
     ]
    }
   ],
   "source": [
    "#Filter the df by showing data related to a specific ticker symbol\n",
    "stocks.filter(((stocks.Ticker == \"MSFT\") | (stocks.Ticker == \"V\")) & (stocks.Date == \"05/31/2023\")).show(15)"
   ]
  },
  {
   "cell_type": "code",
   "execution_count": 9,
   "id": "5e082d36-819e-4b16-be2f-48bf6066377d",
   "metadata": {},
   "outputs": [],
   "source": [
    "#DEFINE UDF FUNCTIONS\n",
    "from pyspark.sql.functions import udf\n",
    "from pyspark.sql.types import DateType\n",
    "from datetime import datetime"
   ]
  },
  {
   "cell_type": "code",
   "execution_count": 10,
   "id": "6106b96d-1e9b-42ae-8120-79b04d158e80",
   "metadata": {},
   "outputs": [],
   "source": [
    "#Add a new columns containing the date parsed from string to datetime through the UDF\n",
    "date_parser = udf(lambda d: datetime.strptime(d, \"%m/%d/%Y\"), DateType())\n",
    "stocks = stocks.withColumn(\"ParsedDate\", date_parser(stocks.Date))"
   ]
  },
  {
   "cell_type": "code",
   "execution_count": 11,
   "id": "e77f7cbf-190b-4312-a7e8-dc683b3a8b3e",
   "metadata": {},
   "outputs": [
    {
     "name": "stdout",
     "output_type": "stream",
     "text": [
      "+------+----------+----------+-------+--------+--------+--------+----------+\n",
      "|Ticker|      Date|Close/Last| Volume|    Open|    High|     Low|ParsedDate|\n",
      "+------+----------+----------+-------+--------+--------+--------+----------+\n",
      "| BRK-B|05/31/2023|  $321.08 |6175417|$321.12 |$322.41 |$319.39 |2023-05-31|\n",
      "| BRK-B|05/30/2023|  $322.19 |3232461|$321.86 |$322.47 |$319.00 |2023-05-30|\n",
      "| BRK-B|05/26/2023|  $320.60 |3229873|$320.44 |$322.63 |$319.67 |2023-05-26|\n",
      "+------+----------+----------+-------+--------+--------+--------+----------+\n",
      "only showing top 3 rows\n",
      "\n",
      "root\n",
      " |-- Ticker: string (nullable = true)\n",
      " |-- Date: string (nullable = true)\n",
      " |-- Close/Last: string (nullable = true)\n",
      " |-- Volume: integer (nullable = true)\n",
      " |-- Open: string (nullable = true)\n",
      " |-- High: string (nullable = true)\n",
      " |-- Low: string (nullable = true)\n",
      " |-- ParsedDate: date (nullable = true)\n",
      "\n"
     ]
    }
   ],
   "source": [
    "stocks.show(3)\n",
    "stocks.printSchema()"
   ]
  },
  {
   "cell_type": "code",
   "execution_count": 12,
   "id": "40920e53-cb8a-4e58-8826-b5a14da5c43e",
   "metadata": {},
   "outputs": [],
   "source": [
    "#Convert Close, Open,High, Low to float types\n",
    "from pyspark.sql.types import FloatType\n",
    "\n",
    "# toFloat UDF\n",
    "def toFloat(n):\n",
    "    if isinstance(n, int): return float(n)\n",
    "    if isinstance(n, float): return n\n",
    "    if isinstance(n, str): return float(n.replace(\"$\", \"\"))\n",
    "    return None\n",
    "\n",
    "toFloat_udf = udf(toFloat, FloatType())\n",
    "\n",
    "# Applichiamo la UDF alle colonne richieste\n",
    "stocks = (stocks.withColumn(\"Open\", toFloat_udf(stocks[\"Open\"]))\n",
    "                .withColumn(\"Close\", toFloat_udf(stocks[\"Close/Last\"]))\n",
    "                .withColumn(\"Low\", toFloat_udf(stocks[\"Low\"]))\n",
    "                .withColumn(\"High\", toFloat_udf(stocks[\"High\"])))"
   ]
  },
  {
   "cell_type": "code",
   "execution_count": 13,
   "id": "565360d4-165f-413f-a7d2-6bcac8d8946a",
   "metadata": {},
   "outputs": [
    {
     "name": "stdout",
     "output_type": "stream",
     "text": [
      "+------+----------+-------+------+------+------+------+\n",
      "|Ticker|      Date| Volume|  Open|   Low|  High| Close|\n",
      "+------+----------+-------+------+------+------+------+\n",
      "| BRK-B|2023-05-31|6175417|321.12|319.39|322.41|321.08|\n",
      "| BRK-B|2023-05-30|3232461|321.86| 319.0|322.47|322.19|\n",
      "| BRK-B|2023-05-26|3229873|320.44|319.67|322.63| 320.6|\n",
      "+------+----------+-------+------+------+------+------+\n",
      "only showing top 3 rows\n",
      "\n",
      "root\n",
      " |-- Ticker: string (nullable = true)\n",
      " |-- Date: date (nullable = true)\n",
      " |-- Volume: integer (nullable = true)\n",
      " |-- Open: float (nullable = true)\n",
      " |-- Low: float (nullable = true)\n",
      " |-- High: float (nullable = true)\n",
      " |-- Close: float (nullable = true)\n",
      "\n"
     ]
    }
   ],
   "source": [
    "stocks.createOrReplaceTempView(\"StocksTable\")\n",
    "stocks = spark.sql(\"SELECT Ticker, ParsedDate AS Date, Volume, Open, Low, High, Close FROM StocksTable\")\n",
    "stocks.show(3)\n",
    "stocks.printSchema()"
   ]
  },
  {
   "cell_type": "code",
   "execution_count": 14,
   "id": "f7036af1-632e-4d4d-8838-9982842db08f",
   "metadata": {},
   "outputs": [
    {
     "name": "stdout",
     "output_type": "stream",
     "text": [
      "+-------+--------------------+------------------+------------------+------------------+------------------+\n",
      "|summary|              Volume|              Open|               Low|              High|             Close|\n",
      "+-------+--------------------+------------------+------------------+------------------+------------------+\n",
      "|  count|               15108|             15108|             15108|             15108|             15108|\n",
      "|   mean|5.1868408793685466E7|180.09656566181036| 177.9982781513109| 182.1253348687101| 180.1256089860054|\n",
      "| stddev| 5.496484129953464E7|101.16125813324399|100.26590135955216|101.96625521621753|101.14891782168563|\n",
      "|    min|              961133|             12.07|              11.8|             12.45|             11.93|\n",
      "|    max|           914080943|            479.22|            476.06|            479.98|            477.71|\n",
      "+-------+--------------------+------------------+------------------+------------------+------------------+\n",
      "\n"
     ]
    }
   ],
   "source": [
    "#Calulate statistics about the df\n",
    "stocks.describe([\"Volume\", \"Open\", \"Low\", \"High\", \"Close\"]).show()"
   ]
  },
  {
   "cell_type": "code",
   "execution_count": 15,
   "id": "9821c497-7f81-4175-bf19-902c28b1344b",
   "metadata": {},
   "outputs": [
    {
     "name": "stdout",
     "output_type": "stream",
     "text": [
      "+-------+-----------------+------------------+------------------+------------------+------------------+\n",
      "|summary|           Volume|              Open|               Low|              High|             Close|\n",
      "+-------+-----------------+------------------+------------------+------------------+------------------+\n",
      "|  count|             1259|              1259|              1259|              1259|              1259|\n",
      "|   mean|8269259.627482128|192.89731548209338|190.93404293287549|194.85096124432408|192.90231931654586|\n",
      "| stddev|3744734.274750118|30.600622781295748|30.389683305829045|30.834919243002513| 30.57141006201524|\n",
      "|    min|          1993541|            122.08|             121.6|            125.21|            121.73|\n",
      "|    max|         38379570|            250.05|            248.22|            252.67|            250.93|\n",
      "+-------+-----------------+------------------+------------------+------------------+------------------+\n",
      "\n"
     ]
    }
   ],
   "source": [
    "stocks.filter(stocks.Ticker == \"V\").describe([\"Volume\", \"Open\", \"Low\", \"High\", \"Close\"]).show()"
   ]
  },
  {
   "cell_type": "code",
   "execution_count": 16,
   "id": "12c74cd0-8606-4e78-8516-d67ca4fa9af9",
   "metadata": {},
   "outputs": [
    {
     "name": "stdout",
     "output_type": "stream",
     "text": [
      "+-------+--------------------+-----------------+------------------+------------------+------------------+\n",
      "|summary|              Volume|             Open|               Low|              High|             Close|\n",
      "+-------+--------------------+-----------------+------------------+------------------+------------------+\n",
      "|  count|                1259|             1259|              1259|              1259|              1259|\n",
      "|   mean| 4.800409354487689E7|265.6845165128458|263.26520927980647|267.93787476749435|265.76679137020096|\n",
      "| stddev|2.4497349118980378E7|71.38029094940865| 70.70549093113937| 71.92219873425739|  71.3698475978749|\n",
      "|    min|             7089020|           145.12|            143.46|            147.98|             143.5|\n",
      "|    max|           199448100|           405.57|            402.58|            408.71|            403.99|\n",
      "+-------+--------------------+-----------------+------------------+------------------+------------------+\n",
      "\n"
     ]
    }
   ],
   "source": [
    "stocks.filter(stocks.Ticker == \"QQQ\").describe([\"Volume\", \"Open\", \"Low\", \"High\", \"Close\"]).show()"
   ]
  },
  {
   "cell_type": "code",
   "execution_count": 17,
   "id": "cf901783-1911-4bde-b9ed-0b992143efa1",
   "metadata": {},
   "outputs": [
    {
     "name": "stdout",
     "output_type": "stream",
     "text": [
      "+------+----------+\n",
      "|Ticker|max(Close)|\n",
      "+------+----------+\n",
      "| BRK-B|    359.57|\n",
      "|  MSFT|    343.11|\n",
      "|  META|    382.18|\n",
      "|  TSLA|    409.97|\n",
      "|  AAPL|    182.01|\n",
      "|  AMZN|    186.57|\n",
      "| GOOGL|    149.84|\n",
      "|  NVDA|    401.11|\n",
      "|     V|    250.93|\n",
      "|   TSM|    140.66|\n",
      "|   SPY|    477.71|\n",
      "|   QQQ|    403.99|\n",
      "+------+----------+\n",
      "\n"
     ]
    }
   ],
   "source": [
    "#Calculate MAX and MIN stock price for every ticker\n",
    "maxCloses = stocks.groupby(\"Ticker\").max(\"Close\").show(15)"
   ]
  },
  {
   "cell_type": "code",
   "execution_count": 21,
   "id": "b57e8b48-bfc9-43b4-aa18-0eb4590b15d3",
   "metadata": {},
   "outputs": [
    {
     "name": "stdout",
     "output_type": "stream",
     "text": [
      "+------+-------------+\n",
      "|Ticker|MaxStockPrice|\n",
      "+------+-------------+\n",
      "| BRK-B|       359.57|\n",
      "|  MSFT|       343.11|\n",
      "|  META|       382.18|\n",
      "|  TSLA|       409.97|\n",
      "|  AAPL|       182.01|\n",
      "|  AMZN|       186.57|\n",
      "| GOOGL|       149.84|\n",
      "|  NVDA|       401.11|\n",
      "|     V|       250.93|\n",
      "|   TSM|       140.66|\n",
      "|   SPY|       477.71|\n",
      "|   QQQ|       403.99|\n",
      "+------+-------------+\n",
      "\n"
     ]
    }
   ],
   "source": [
    "stocks.groupBy(\"Ticker\").max(\"Close\").withColumnRenamed(\"max(Close)\", \"MaxStockPrice\").show(15)"
   ]
  },
  {
   "cell_type": "code",
   "execution_count": 24,
   "id": "1884a16f-9d95-4d02-9cd8-e79072309956",
   "metadata": {},
   "outputs": [],
   "source": [
    "import pyspark.sql.functions as f"
   ]
  },
  {
   "cell_type": "code",
   "execution_count": 25,
   "id": "be48ecb0-8c10-4fad-8dc8-2d87e60f49cb",
   "metadata": {},
   "outputs": [
    {
     "name": "stdout",
     "output_type": "stream",
     "text": [
      "+------+-------------+------------+\n",
      "|Ticker|MaxStockPrice| TotalVolume|\n",
      "+------+-------------+------------+\n",
      "| BRK-B|       359.57|  5862401321|\n",
      "|  MSFT|       343.11| 37976660472|\n",
      "|  META|       382.18| 30148848043|\n",
      "|  TSLA|       409.97|171802975076|\n",
      "|  AAPL|       182.01|139310061360|\n",
      "|  AMZN|       186.57|104503287430|\n",
      "| GOOGL|       149.84| 43956560981|\n",
      "|  NVDA|       401.11| 58787218324|\n",
      "|     V|       250.93| 10410997871|\n",
      "|   TSM|       140.66| 12506470104|\n",
      "|   SPY|       477.71|107925285300|\n",
      "|   QQQ|       403.99| 60437153773|\n",
      "+------+-------------+------------+\n",
      "\n"
     ]
    }
   ],
   "source": [
    "#gather MaxStockPrice and the sum of all Volumes for each ticker\n",
    "stocks.groupBy(\"Ticker\").agg(f.max(\"Close\").alias(\"MaxStockPrice\"),\n",
    "                                                  f.sum(\"Volume\").alias(\"TotalVolume\")\n",
    "                                                 ).show(15)"
   ]
  },
  {
   "cell_type": "code",
   "execution_count": 28,
   "id": "1874f814-e9c7-455f-80ca-52ff8d861906",
   "metadata": {},
   "outputs": [
    {
     "name": "stdout",
     "output_type": "stream",
     "text": [
      "+------+----------+-------+------+------+------+------+----+-----+---+----+\n",
      "|Ticker|      Date| Volume|  Open|   Low|  High| Close|Year|Month|Day|Week|\n",
      "+------+----------+-------+------+------+------+------+----+-----+---+----+\n",
      "| BRK-B|2023-05-31|6175417|321.12|319.39|322.41|321.08|2023|    5| 31|  22|\n",
      "| BRK-B|2023-05-30|3232461|321.86| 319.0|322.47|322.19|2023|    5| 30|  22|\n",
      "| BRK-B|2023-05-26|3229873|320.44|319.67|322.63| 320.6|2023|    5| 26|  21|\n",
      "+------+----------+-------+------+------+------+------+----+-----+---+----+\n",
      "only showing top 3 rows\n",
      "\n"
     ]
    }
   ],
   "source": [
    "#divide the Date column in three columns: year, month, day, weekofYear\n",
    "stocks = (stocks.withColumn(\"Year\", f.year(stocks.Date))\n",
    "          .withColumn(\"Month\", f.month(stocks.Date))\n",
    "          .withColumn(\"Day\", f.dayofmonth(stocks.Date))\n",
    "          .withColumn(\"Week\", f.weekofyear(stocks.Date)))\n",
    "\n",
    "stocks.show(3)"
   ]
  },
  {
   "cell_type": "code",
   "execution_count": 29,
   "id": "7b97c278-e1f1-4a77-902a-d5d96996cf91",
   "metadata": {},
   "outputs": [
    {
     "name": "stdout",
     "output_type": "stream",
     "text": [
      "+------+----+---------+---------+------------------+\n",
      "|Ticker|Year|MaxCloseY|MinCloseY|         AvgCloseY|\n",
      "+------+----+---------+---------+------------------+\n",
      "| BRK-B|2023|   330.39|   293.51| 313.6467963653861|\n",
      "| BRK-B|2018|   223.76|   184.91|204.63770345739417|\n",
      "| BRK-B|2021|   300.17|   227.36| 272.7105555458674|\n",
      "| BRK-B|2020|   233.92|   162.13|205.01023744123256|\n",
      "| BRK-B|2019|   227.05|   191.66|208.07250019860646|\n",
      "| BRK-B|2022|   359.57|    264.0|304.48920261337463|\n",
      "|  MSFT|2019|   158.96|     97.4| 130.3820636688717|\n",
      "|  MSFT|2021|   343.11|   212.25|275.94079347640746|\n",
      "|  MSFT|2020|   231.65|   135.42|193.02612642431447|\n",
      "|  MSFT|2018|   115.61|    94.13| 106.6812163688041|\n",
      "|  MSFT|2023|   332.89|   222.31| 273.9646604963877|\n",
      "|  MSFT|2022|   334.75|   214.25| 268.9170912784409|\n",
      "|  META|2020|   303.91|   146.01|234.55086984747484|\n",
      "|  META|2021|   382.18|   245.64| 321.1662303985111|\n",
      "|  META|2018|    217.5|   124.06|167.72925619176917|\n",
      "|  META|2022|   338.54|    88.91|180.18768976219147|\n",
      "|  META|2019|    208.1|   131.74| 181.6374996124752|\n",
      "|  META|2023|   264.72|   124.74|194.55932039427526|\n",
      "|  TSLA|2019|    28.73|    11.93| 18.23519838802398|\n",
      "|  TSLA|2021|   409.97|   187.67|  259.998174637083|\n",
      "|  TSLA|2018|     25.3|     16.7|21.324999976802516|\n",
      "|  TSLA|2020|   235.22|    24.08| 96.66577062493728|\n",
      "|  TSLA|2023|   214.24|    108.1|  175.198057748739|\n",
      "|  TSLA|2022|   399.93|    109.1|  263.093147490604|\n",
      "|  AAPL|2020|   136.69|    56.09| 95.34739106068969|\n",
      "|  AAPL|2022|   182.01|   126.04|154.83505969408498|\n",
      "|  AAPL|2018|    58.02|    36.71|49.811081241916966|\n",
      "|  AAPL|2021|   180.33|   116.36|140.98936516898019|\n",
      "|  AAPL|2023|    177.3|   125.02|156.13339796344053|\n",
      "|  AAPL|2019|    73.41|    35.55| 52.06547635699075|\n",
      "+------+----+---------+---------+------------------+\n",
      "only showing top 30 rows\n",
      "\n"
     ]
    }
   ],
   "source": [
    "#For each ticker, group by year and show maxClose, minClose and avgClose\n",
    "yearlyMaxMin = stocks.groupby([\"Ticker\", \"Year\"]).agg(\n",
    "    f.max(\"Close\").alias(\"MaxCloseY\"),\n",
    "    f.min(\"Close\").alias(\"MinCloseY\"),\n",
    "    f.avg(\"Close\").alias(\"AvgCloseY\"))\n",
    "\n",
    "yearlyMaxMin.show(30)"
   ]
  },
  {
   "cell_type": "code",
   "execution_count": null,
   "id": "ffd97fd8-5907-4c21-b543-37059af51dfe",
   "metadata": {},
   "outputs": [],
   "source": [
    "#For each ticker, group by year and show maxClose, minClose and avgClose, but in SQL fashion\n",
    "stocks.createOrReplaceTempView(\"StocksTable\")#because we added the new columns for year, month ecc we have to create the table again!\n",
    "yearlyMaxMinSQL = spark.sql(\"SELECT Ticker, Year, MAX(Close) AS MaxCloseY, MIN(Close) as MinCloseY, AVG(Close) AS AvgCloseY\\\n",
    "                            FROM StocksTable\\\n",
    "                            GROUP BY Ticker, Year\")\n",
    "\n",
    "yearlyMaxMin.show(30)"
   ]
  },
  {
   "cell_type": "code",
   "execution_count": null,
   "id": "046a4825-d871-4a01-b83e-fd3d4932bd1c",
   "metadata": {},
   "outputs": [],
   "source": []
  }
 ],
 "metadata": {
  "kernelspec": {
   "display_name": "Python 3 (ipykernel)",
   "language": "python",
   "name": "python3"
  },
  "language_info": {
   "codemirror_mode": {
    "name": "ipython",
    "version": 3
   },
   "file_extension": ".py",
   "mimetype": "text/x-python",
   "name": "python",
   "nbconvert_exporter": "python",
   "pygments_lexer": "ipython3",
   "version": "3.9.13"
  }
 },
 "nbformat": 4,
 "nbformat_minor": 5
}
